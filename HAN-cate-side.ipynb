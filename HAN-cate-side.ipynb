{
 "cells": [
  {
   "cell_type": "code",
   "execution_count": null,
   "metadata": {},
   "outputs": [],
   "source": [
    "# encoding=utf-8\n",
    "import numpy as np\n",
    "import pandas as pd\n",
    "import os\n",
    "import jieba\n",
    "from datetime import datetime\n",
    "import json\n",
    "\n",
    "from keras.preprocessing.text import Tokenizer, text_to_word_sequence\n",
    "from keras.preprocessing.sequence import pad_sequences\n",
    "from keras.utils.np_utils import to_categorical\n",
    "from keras.layers import Embedding\n",
    "from keras.layers import Dense, Input, Flatten, concatenate\n",
    "from keras.layers import Conv1D, MaxPooling1D, Embedding, Dropout, LSTM, GRU, Bidirectional, TimeDistributed\n",
    "from keras.models import Model\n",
    "from keras import backend as K\n",
    "from keras.engine.topology import Layer, InputSpec\n",
    "from keras import initializers"
   ]
  },
  {
   "cell_type": "code",
   "execution_count": null,
   "metadata": {
    "scrolled": true
   },
   "outputs": [],
   "source": [
    "MAX_TEXTS = 20\n",
    "MAX_SENTS = 20\n",
    "MAX_SENT_LENGTH = 30\n",
    "MAX_NB_WORDS = 20000\n",
    "\n",
    "EMBEDDING_DIM = 300\n",
    "VALIDATION_SPLIT = 0.2\n",
    "\n",
    "real = pd.read_csv('./data//real_data.csv')\n",
    "rumor = pd.read_csv('./data//rumor_data.csv')\n",
    "\n",
    "real['category'] += (max(set(rumor['category'])) + 1)\n",
    "rumor['label'] = 1\n",
    "real['label'] = 0\n",
    "data_train = pd.concat([rumor, real]).reset_index().drop(columns='index')\n",
    "\n",
    "split_idx = len(rumor)\n",
    "data_train.head()"
   ]
  },
  {
   "cell_type": "markdown",
   "metadata": {},
   "source": [
    "## 预处理"
   ]
  },
  {
   "cell_type": "code",
   "execution_count": null,
   "metadata": {},
   "outputs": [],
   "source": [
    "def clean_text(text):\n",
    "    #regex = re.compile(r'[^\\u4e00-\\u9fa5aA-Za-z0-9]')\n",
    "    #text = regex.sub(' ', text)\n",
    "    return text.strip()\n",
    "\n",
    "def sent2words(sent):\n",
    "    return [word for word in jieba.cut(sent) if word.strip()]\n",
    "\n",
    "def text2words(text):\n",
    "    sentences = re.split('(。|！|\\!|\\.|？|\\?)',text)\n",
    "\n",
    "    new_sents = []\n",
    "    for i in range(int(len(sentences)/2)):\n",
    "        sent = sentences[2*i] + sentences[2*i+1]\n",
    "        words = sent2words(sent.strip())\n",
    "        new_sents.append(words)\n",
    "        #new_sents.append(sent.strip())\n",
    "    return new_sents"
   ]
  },
  {
   "cell_type": "code",
   "execution_count": null,
   "metadata": {},
   "outputs": [],
   "source": [
    "events = {}\n",
    "\n",
    "for idx in range(data_train.text.shape[0]):\n",
    "    text = clean_text(data_train.text[idx])\n",
    "    words = text2words(text)\n",
    "    \n",
    "    event = str(data_train.category[idx])\n",
    "    if event not in events:\n",
    "        events[event] = []\n",
    "    \n",
    "    events[event].append(words)"
   ]
  },
  {
   "cell_type": "code",
   "execution_count": null,
   "metadata": {},
   "outputs": [],
   "source": [
    "word_dict = {}\n",
    "for event in events.values():\n",
    "    for text in event:\n",
    "        for sent in text:\n",
    "            for word in sent:\n",
    "                word_dict[word] = word_dict.get(word, 0) + 1\n",
    "                \n",
    "word_index = {}\n",
    "index = 0\n",
    "for i, j in sorted(word_dict.items(), key=lambda x:x[1], reverse=True):\n",
    "    word_index[i] = index\n",
    "    index += 1"
   ]
  },
  {
   "cell_type": "code",
   "execution_count": null,
   "metadata": {},
   "outputs": [],
   "source": [
    "data = np.zeros((len(events), MAX_TEXTS, MAX_SENTS, MAX_SENT_LENGTH), dtype='int32')\n",
    "\n",
    "for i, event in enumerate(events.values()):  \n",
    "    for j, sentences in enumerate(event):\n",
    "        if j < MAX_TEXTS:\n",
    "            for k, sent in enumerate(sentences):\n",
    "                if k < MAX_SENTS:\n",
    "                    l = 0\n",
    "                    for word in sent:\n",
    "                        if l < MAX_SENT_LENGTH and word_index[word] < MAX_NB_WORDS:\n",
    "                            data[i, j, k, l] = word_index[word]\n",
    "                            l = l + 1"
   ]
  },
  {
   "cell_type": "markdown",
   "metadata": {},
   "source": [
    "## 生成训练、测试集"
   ]
  },
  {
   "cell_type": "code",
   "execution_count": null,
   "metadata": {},
   "outputs": [],
   "source": [
    "def get_side_info(data):\n",
    "    append_data = []\n",
    "    for cate, df in data.groupby('category'):\n",
    "        #print(cate)\n",
    "        category_atte = []\n",
    "        title_len = np.array([len(title) for title in df['title']])\n",
    "        category_atte.extend([title_len.max(), title_len.min(), title_len.mean(), title_len.var()])\n",
    "        sent_count = np.array([len(re.split('(。|！|\\!|\\.|？|\\?)',text)) for text in df['text']])\n",
    "        category_atte.extend([sent_count.max(), sent_count.min(), sent_count.mean(), sent_count.var()])\n",
    "        text_len = np.array([len(text) for text in df['text']])\n",
    "        category_atte.extend([text_len.max(), text_len.min(), text_len.mean(), text_len.var()])\n",
    "\n",
    "        num_count = np.array([len(re.findall('\\d+',text)) for text in df['text']])\n",
    "        category_atte.extend([num_count.max(), num_count.min(), num_count.mean(), num_count.var()])\n",
    "        question_mark_count = np.array([text.count('?')+text.count('？') for text in df['text']])\n",
    "        category_atte.extend([question_mark_count.max(), question_mark_count.min(), question_mark_count.mean(), question_mark_count.var()])\n",
    "        exclamation_mark_count = np.array([text.count('!')+text.count('！') for text in df['text']])\n",
    "        category_atte.extend([exclamation_mark_count.max(), exclamation_mark_count.min(), exclamation_mark_count.mean(), exclamation_mark_count.var()])\n",
    "\n",
    "        text_count = len(df['text'])\n",
    "        category_atte.append(text_count)\n",
    "\n",
    "        times = np.array([datetime.strptime(time, '%Y-%m-%d') for time in df['time']])\n",
    "        time_span = (max(times) - min(times)).days\n",
    "        mean_time_span = time_span / len(times)\n",
    "        category_atte.extend([time_span, mean_time_span])\n",
    "\n",
    "        month_propagation_count = sum([1 for t in times if (max(times)-t).days<30])\n",
    "        half_year_propagation_count = sum([1 for t in times if (max(times)-t).days<180])\n",
    "        year_propagation_count = sum([1 for t in times if (max(times)-t).days<365])\n",
    "        three_year_propagation_count = sum([1 for t in times if (max(times)-t).days<365*3])\n",
    "        category_atte.extend([month_propagation_count,half_year_propagation_count,year_propagation_count,three_year_propagation_count])\n",
    "\n",
    "#         word1_count = np.array([text.count('震惊') for text in df['text']])\n",
    "#         category_atte.extend([word1_count.max(), word1_count.min(), word1_count.mean(), word1_count.var()])\n",
    "#         word2_count = np.array([text.count('健康') for text in df['text']])\n",
    "#         category_atte.extend([word2_count.max(), word2_count.min(), word2_count.mean(), word2_count.var()])\n",
    "#         word3_count = np.array([text.count('癌症') for text in df['text']])\n",
    "#         category_atte.extend([word3_count.max(), word3_count.min(), word3_count.mean(), word3_count.var()])\n",
    "#         word4_count = np.array([text.count('二维码') for text in df['text']])\n",
    "#         category_atte.extend([word4_count.max(), word4_count.min(), word4_count.mean(), word4_count.var()])\n",
    "#         word5_count = np.array([text.count('转账') for text in df['text']])\n",
    "#         category_atte.extend([word5_count.max(), word5_count.min(), word5_count.mean(), word5_count.var()])\n",
    "#         word6_count = np.array([text.count('中医') for text in df['text']])\n",
    "#         category_atte.extend([word6_count.max(), word6_count.min(), word6_count.mean(), word6_count.var()])\n",
    "\n",
    "#         word7_count = np.array([text.count('危害') for text in df['text']])\n",
    "#         category_atte.extend([word7_count.max(), word7_count.min(), word7_count.mean(), word7_count.var()])\n",
    "#         word8_count = np.array([text.count('指数') for text in df['text']])\n",
    "#         category_atte.extend([word8_count.max(), word8_count.min(), word8_count.mean(), word8_count.var()])\n",
    "#         word9_count = np.array([text.count('孩子') for text in df['text']])\n",
    "#         category_atte.extend([word9_count.max(), word9_count.min(), word9_count.mean(), word9_count.var()])\n",
    "#         word10_count = np.array([text.count('来源') for text in df['text']])\n",
    "#         category_atte.extend([word10_count.max(), word10_count.min(), word10_count.mean(), word10_count.var()])\n",
    "#         word11_count = np.array([text.count('记者') for text in df['text']])\n",
    "#         category_atte.extend([word11_count.max(), word11_count.min(), word11_count.mean(), word11_count.var()])\n",
    "        append_data.append(category_atte)\n",
    "    append_data = np.array(append_data)\n",
    "    return append_data\n",
    "side_data = get_side_info(data_train)"
   ]
  },
  {
   "cell_type": "code",
   "execution_count": null,
   "metadata": {},
   "outputs": [],
   "source": [
    "labels = np.concatenate([np.ones(187),np.zeros(210)])\n",
    "labels = to_categorical(np.asarray(labels))\n",
    "\n",
    "print('Total %s unique tokens.' % len(word_index))\n",
    "print('Shape of data tensor:', data.shape)\n",
    "print('Shape of side data tensor:', side_data.shape)\n",
    "print('Shape of label tensor:', labels.shape)\n",
    "\n",
    "SIDE_INFO_DIM = side_data.shape[1]\n",
    "indices = np.arange(data.shape[0])\n",
    "np.random.shuffle(indices, )\n",
    "data = data[indices]\n",
    "side_data = side_data[indices]\n",
    "labels = labels[indices]\n",
    "nb_validation_samples = int(VALIDATION_SPLIT * data.shape[0])\n",
    "\n",
    "x_train = data[:-nb_validation_samples]\n",
    "x_side_train = side_data[:-nb_validation_samples]\n",
    "y_train = labels[:-nb_validation_samples]\n",
    "x_val = data[-nb_validation_samples:]\n",
    "x_side_val = side_data[-nb_validation_samples:]\n",
    "y_val = labels[-nb_validation_samples:]\n",
    "\n",
    "print('Number of positive and negative reviews in traing and validation set')\n",
    "print(y_train.sum(axis=0))\n",
    "print(y_val.sum(axis=0))"
   ]
  },
  {
   "cell_type": "markdown",
   "metadata": {},
   "source": [
    "## 中文embedding"
   ]
  },
  {
   "cell_type": "code",
   "execution_count": null,
   "metadata": {},
   "outputs": [],
   "source": [
    "embeddings_index = {}\n",
    "f = open('./data//sgns.weibo.word', encoding='utf-8')\n",
    "for line in f:\n",
    "    values = line.split()\n",
    "    word = values[0]\n",
    "    coefs = np.asarray(values[1:], dtype='float32')\n",
    "    embeddings_index[word] = coefs\n",
    "f.close()"
   ]
  },
  {
   "cell_type": "code",
   "execution_count": null,
   "metadata": {},
   "outputs": [],
   "source": [
    "print('Total %s word vectors.' % len(embeddings_index))\n",
    "\n",
    "embedding_matrix = np.random.random((len(word_index) + 1, EMBEDDING_DIM))\n",
    "for word, i in word_index.items():\n",
    "    embedding_vector = embeddings_index.get(word)\n",
    "    if embedding_vector is not None:\n",
    "        # words not found in embedding index will be all-zeros.\n",
    "        embedding_matrix[i] = embedding_vector\n",
    "        \n",
    "print(\"embedding_matrix: \" + str(embedding_matrix.shape))\n",
    "\n",
    "embedding_layer = Embedding(\n",
    "    len(word_index) + 1, EMBEDDING_DIM,\n",
    "    weights=[embedding_matrix], input_length=MAX_SENT_LENGTH,\n",
    "    trainable=True, mask_zero=True)"
   ]
  },
  {
   "cell_type": "markdown",
   "metadata": {},
   "source": [
    "## attention层"
   ]
  },
  {
   "cell_type": "code",
   "execution_count": null,
   "metadata": {},
   "outputs": [],
   "source": [
    "class AttLayer(Layer):\n",
    "    def __init__(self, attention_dim):\n",
    "        self.init = initializers.get('normal')\n",
    "        self.supports_masking = True\n",
    "        self.attention_dim = attention_dim\n",
    "        super(AttLayer, self).__init__()\n",
    "        \n",
    "    # 定义权重\n",
    "    def build(self, input_shape):\n",
    "        assert len(input_shape) == 3\n",
    "        self.W = K.variable(self.init((input_shape[-1], self.attention_dim)))\n",
    "        self.b = K.variable(self.init((self.attention_dim, )))\n",
    "        self.u = K.variable(self.init((self.attention_dim, 1)))\n",
    "        self.trainable_weights = [self.W, self.b, self.u]\n",
    "        super(AttLayer, self).build(input_shape)\n",
    "\n",
    "    def compute_mask(self, inputs, mask=None):\n",
    "        #return mask\n",
    "        return None\n",
    "    \n",
    "    # 定义功能逻辑\n",
    "    def call(self, x, mask=None):\n",
    "        # size of x :[batch_size, sel_len, h_dim]\n",
    "        # size of W :[h_dim, attention_dim]\n",
    "        # uit = tanh(xW+b)\n",
    "        # size of uit :[batch_size, sel_len, attention_dim]\n",
    "        uit = K.tanh(K.bias_add(K.dot(x, self.W), self.b))\n",
    "        # size of u :[attention_dim, 1]\n",
    "        ait = K.dot(uit, self.u)\n",
    "        ait = K.squeeze(ait, -1)\n",
    "\n",
    "        ait = K.exp(ait)   #batch_size, sel_len\n",
    "\n",
    "        if mask is not None:\n",
    "            # Cast the mask to floatX to avoid float64 upcasting in theano\n",
    "            ait *= K.cast(mask, K.floatx())\n",
    "        ait /= K.cast(K.sum(ait, axis=1, keepdims=True) + K.epsilon(), K.floatx())\n",
    "        ait = K.expand_dims(ait)                 #batch_size, sel_len, 1\n",
    "        weighted_input = x * ait                 #batch_size, sel_len, h_dim\n",
    "        output = K.sum(weighted_input, axis=1)   #batch_size, h_dim\n",
    "\n",
    "        return output\n",
    "    \n",
    "    # 定义形状变化的逻辑\n",
    "    def compute_output_shape(self, input_shape):\n",
    "        return (input_shape[0], input_shape[-1])\n"
   ]
  },
  {
   "cell_type": "markdown",
   "metadata": {},
   "source": [
    "## model"
   ]
  },
  {
   "cell_type": "code",
   "execution_count": null,
   "metadata": {
    "scrolled": false
   },
   "outputs": [],
   "source": [
    "#word level\n",
    "sentence_input = Input(shape=(MAX_SENT_LENGTH,), dtype='int32')\n",
    "embedded_sequences = embedding_layer(sentence_input)\n",
    "l_lstm_word = Bidirectional(GRU(100, return_sequences=True))(embedded_sequences)  #双向GRU的output dim h=2*128\n",
    "l_att_word = AttLayer(100)(l_lstm_word)                                           #output dim h=2*128\n",
    "sent_model = Model(sentence_input, l_att_word)\n",
    "\n",
    "#sentence level\n",
    "review_input = Input(shape=(MAX_SENTS, MAX_SENT_LENGTH), dtype='int32')\n",
    "review_encoder = TimeDistributed(sent_model)(review_input)\n",
    "l_lstm_sent = Bidirectional(GRU(100, return_sequences=True))(review_encoder)\n",
    "l_att_sent = AttLayer(100)(l_lstm_sent)\n",
    "review_model = Model(review_input, l_att_sent)\n",
    "\n",
    "#post level\n",
    "event_input = Input(shape=(MAX_TEXTS, MAX_SENTS, MAX_SENT_LENGTH), dtype='int32')\n",
    "event_encoder = TimeDistributed(review_model)(event_input)\n",
    "l_lstm_event = Bidirectional(GRU(100, return_sequences=True))(event_encoder)\n",
    "l_att_event = AttLayer(100)(l_lstm_event)\n",
    "\n",
    "preds = Dense(2, activation='softmax')(l_att_event)\n",
    "model = Model(event_input, preds)\n",
    "\n",
    "\n",
    "#side_input = Input(shape=(SIDE_INFO_DIM,), dtype='float32')\n",
    "#side_vec = Dense(50, activation='tanh')(side_input)\n",
    "#concated_vec = concatenate([l_att_event, side_vec])\n",
    "#concated_vec = Dense(20, activation='tanh')(concated_vec)\n",
    "#preds = Dense(2, activation='softmax')(concated_vec)\n",
    "#model = Model([event_input, side_input], preds)\n",
    "\n",
    "model.compile(loss='binary_crossentropy', optimizer='Adam', metrics=['acc',metrics.Precision(),metrics.Recall()])"
   ]
  },
  {
   "cell_type": "code",
   "execution_count": null,
   "metadata": {},
   "outputs": [],
   "source": [
    "print(model.summary())"
   ]
  },
  {
   "cell_type": "code",
   "execution_count": null,
   "metadata": {
    "scrolled": true
   },
   "outputs": [],
   "source": [
    "model.fit([x_train, x_side_train], y_train, validation_data=([x_val, x_side_val], y_val),\n",
    "          epochs=50, batch_size=10)"
   ]
  }
 ],
 "metadata": {
  "kernelspec": {
   "display_name": "Python 3",
   "language": "python",
   "name": "python3"
  },
  "language_info": {
   "codemirror_mode": {
    "name": "ipython",
    "version": 3
   },
   "file_extension": ".py",
   "mimetype": "text/x-python",
   "name": "python",
   "nbconvert_exporter": "python",
   "pygments_lexer": "ipython3",
   "version": "3.7.3"
  }
 },
 "nbformat": 4,
 "nbformat_minor": 2
}
